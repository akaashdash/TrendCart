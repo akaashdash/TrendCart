{
 "cells": [
  {
   "cell_type": "markdown",
   "metadata": {},
   "source": [
    "# Google Trends Exploration\n",
    "\n",
    "This notebook is to explore pulling recipes from Google Trends and finding ingredients using Spoonacular."
   ]
  },
  {
   "cell_type": "code",
   "execution_count": 9,
   "metadata": {},
   "outputs": [
    {
     "name": "stdout",
     "output_type": "stream",
     "text": [
      "Requirement already satisfied: requests in /opt/homebrew/Caskroom/miniconda/base/envs/cs4365/lib/python3.10/site-packages (2.31.0)\n",
      "Requirement already satisfied: pytrends in /opt/homebrew/Caskroom/miniconda/base/envs/cs4365/lib/python3.10/site-packages (4.9.2)\n",
      "Requirement already satisfied: spoonacular in /opt/homebrew/Caskroom/miniconda/base/envs/cs4365/lib/python3.10/site-packages (3.0)\n",
      "Requirement already satisfied: brave-search in /opt/homebrew/Caskroom/miniconda/base/envs/cs4365/lib/python3.10/site-packages (0.1.8)\n",
      "Requirement already satisfied: pandas in /opt/homebrew/Caskroom/miniconda/base/envs/cs4365/lib/python3.10/site-packages (2.2.2)\n",
      "Requirement already satisfied: sentence-transformers in /opt/homebrew/Caskroom/miniconda/base/envs/cs4365/lib/python3.10/site-packages (2.6.1)\n",
      "Requirement already satisfied: charset-normalizer<4,>=2 in /opt/homebrew/Caskroom/miniconda/base/envs/cs4365/lib/python3.10/site-packages (from requests) (3.3.2)\n",
      "Requirement already satisfied: idna<4,>=2.5 in /opt/homebrew/Caskroom/miniconda/base/envs/cs4365/lib/python3.10/site-packages (from requests) (3.7)\n",
      "Requirement already satisfied: urllib3<3,>=1.21.1 in /opt/homebrew/Caskroom/miniconda/base/envs/cs4365/lib/python3.10/site-packages (from requests) (2.2.1)\n",
      "Requirement already satisfied: certifi>=2017.4.17 in /opt/homebrew/Caskroom/miniconda/base/envs/cs4365/lib/python3.10/site-packages (from requests) (2024.2.2)\n",
      "Requirement already satisfied: lxml in /opt/homebrew/Caskroom/miniconda/base/envs/cs4365/lib/python3.10/site-packages (from pytrends) (5.2.1)\n",
      "Requirement already satisfied: httpx<0.26.0,>=0.25.2 in /opt/homebrew/Caskroom/miniconda/base/envs/cs4365/lib/python3.10/site-packages (from brave-search) (0.25.2)\n",
      "Requirement already satisfied: numpy<2.0.0,>=1.24.4 in /opt/homebrew/Caskroom/miniconda/base/envs/cs4365/lib/python3.10/site-packages (from brave-search) (1.26.4)\n",
      "Requirement already satisfied: pydantic<3.0.0,>=2.5.2 in /opt/homebrew/Caskroom/miniconda/base/envs/cs4365/lib/python3.10/site-packages (from brave-search) (2.7.0)\n",
      "Requirement already satisfied: pytest-asyncio<0.24.0,>=0.23.2 in /opt/homebrew/Caskroom/miniconda/base/envs/cs4365/lib/python3.10/site-packages (from brave-search) (0.23.6)\n",
      "Requirement already satisfied: tenacity<9.0.0,>=8.2.3 in /opt/homebrew/Caskroom/miniconda/base/envs/cs4365/lib/python3.10/site-packages (from brave-search) (8.2.3)\n",
      "Requirement already satisfied: python-dateutil>=2.8.2 in /opt/homebrew/Caskroom/miniconda/base/envs/cs4365/lib/python3.10/site-packages (from pandas) (2.9.0.post0)\n",
      "Requirement already satisfied: pytz>=2020.1 in /opt/homebrew/Caskroom/miniconda/base/envs/cs4365/lib/python3.10/site-packages (from pandas) (2024.1)\n",
      "Requirement already satisfied: tzdata>=2022.7 in /opt/homebrew/Caskroom/miniconda/base/envs/cs4365/lib/python3.10/site-packages (from pandas) (2024.1)\n",
      "Requirement already satisfied: transformers<5.0.0,>=4.32.0 in /opt/homebrew/Caskroom/miniconda/base/envs/cs4365/lib/python3.10/site-packages (from sentence-transformers) (4.39.3)\n",
      "Requirement already satisfied: tqdm in /opt/homebrew/Caskroom/miniconda/base/envs/cs4365/lib/python3.10/site-packages (from sentence-transformers) (4.66.2)\n",
      "Requirement already satisfied: torch>=1.11.0 in /opt/homebrew/Caskroom/miniconda/base/envs/cs4365/lib/python3.10/site-packages (from sentence-transformers) (2.2.2)\n",
      "Requirement already satisfied: scikit-learn in /opt/homebrew/Caskroom/miniconda/base/envs/cs4365/lib/python3.10/site-packages (from sentence-transformers) (1.4.2)\n",
      "Requirement already satisfied: scipy in /opt/homebrew/Caskroom/miniconda/base/envs/cs4365/lib/python3.10/site-packages (from sentence-transformers) (1.13.0)\n",
      "Requirement already satisfied: huggingface-hub>=0.15.1 in /opt/homebrew/Caskroom/miniconda/base/envs/cs4365/lib/python3.10/site-packages (from sentence-transformers) (0.22.2)\n",
      "Requirement already satisfied: Pillow in /opt/homebrew/Caskroom/miniconda/base/envs/cs4365/lib/python3.10/site-packages (from sentence-transformers) (10.3.0)\n",
      "Requirement already satisfied: anyio in /opt/homebrew/Caskroom/miniconda/base/envs/cs4365/lib/python3.10/site-packages (from httpx<0.26.0,>=0.25.2->brave-search) (4.3.0)\n",
      "Requirement already satisfied: httpcore==1.* in /opt/homebrew/Caskroom/miniconda/base/envs/cs4365/lib/python3.10/site-packages (from httpx<0.26.0,>=0.25.2->brave-search) (1.0.5)\n",
      "Requirement already satisfied: sniffio in /opt/homebrew/Caskroom/miniconda/base/envs/cs4365/lib/python3.10/site-packages (from httpx<0.26.0,>=0.25.2->brave-search) (1.3.1)\n",
      "Requirement already satisfied: h11<0.15,>=0.13 in /opt/homebrew/Caskroom/miniconda/base/envs/cs4365/lib/python3.10/site-packages (from httpcore==1.*->httpx<0.26.0,>=0.25.2->brave-search) (0.14.0)\n",
      "Requirement already satisfied: filelock in /opt/homebrew/Caskroom/miniconda/base/envs/cs4365/lib/python3.10/site-packages (from huggingface-hub>=0.15.1->sentence-transformers) (3.13.4)\n",
      "Requirement already satisfied: fsspec>=2023.5.0 in /opt/homebrew/Caskroom/miniconda/base/envs/cs4365/lib/python3.10/site-packages (from huggingface-hub>=0.15.1->sentence-transformers) (2024.3.1)\n",
      "Requirement already satisfied: packaging>=20.9 in /opt/homebrew/Caskroom/miniconda/base/envs/cs4365/lib/python3.10/site-packages (from huggingface-hub>=0.15.1->sentence-transformers) (24.0)\n",
      "Requirement already satisfied: pyyaml>=5.1 in /opt/homebrew/Caskroom/miniconda/base/envs/cs4365/lib/python3.10/site-packages (from huggingface-hub>=0.15.1->sentence-transformers) (6.0.1)\n",
      "Requirement already satisfied: typing-extensions>=3.7.4.3 in /opt/homebrew/Caskroom/miniconda/base/envs/cs4365/lib/python3.10/site-packages (from huggingface-hub>=0.15.1->sentence-transformers) (4.11.0)\n",
      "Requirement already satisfied: annotated-types>=0.4.0 in /opt/homebrew/Caskroom/miniconda/base/envs/cs4365/lib/python3.10/site-packages (from pydantic<3.0.0,>=2.5.2->brave-search) (0.6.0)\n",
      "Requirement already satisfied: pydantic-core==2.18.1 in /opt/homebrew/Caskroom/miniconda/base/envs/cs4365/lib/python3.10/site-packages (from pydantic<3.0.0,>=2.5.2->brave-search) (2.18.1)\n",
      "Requirement already satisfied: pytest<9,>=7.0.0 in /opt/homebrew/Caskroom/miniconda/base/envs/cs4365/lib/python3.10/site-packages (from pytest-asyncio<0.24.0,>=0.23.2->brave-search) (8.1.1)\n",
      "Requirement already satisfied: six>=1.5 in /opt/homebrew/Caskroom/miniconda/base/envs/cs4365/lib/python3.10/site-packages (from python-dateutil>=2.8.2->pandas) (1.16.0)\n",
      "Requirement already satisfied: sympy in /opt/homebrew/Caskroom/miniconda/base/envs/cs4365/lib/python3.10/site-packages (from torch>=1.11.0->sentence-transformers) (1.12)\n",
      "Requirement already satisfied: networkx in /opt/homebrew/Caskroom/miniconda/base/envs/cs4365/lib/python3.10/site-packages (from torch>=1.11.0->sentence-transformers) (3.3)\n",
      "Requirement already satisfied: jinja2 in /opt/homebrew/Caskroom/miniconda/base/envs/cs4365/lib/python3.10/site-packages (from torch>=1.11.0->sentence-transformers) (3.1.3)\n",
      "Requirement already satisfied: regex!=2019.12.17 in /opt/homebrew/Caskroom/miniconda/base/envs/cs4365/lib/python3.10/site-packages (from transformers<5.0.0,>=4.32.0->sentence-transformers) (2023.12.25)\n",
      "Requirement already satisfied: tokenizers<0.19,>=0.14 in /opt/homebrew/Caskroom/miniconda/base/envs/cs4365/lib/python3.10/site-packages (from transformers<5.0.0,>=4.32.0->sentence-transformers) (0.15.2)\n",
      "Requirement already satisfied: safetensors>=0.4.1 in /opt/homebrew/Caskroom/miniconda/base/envs/cs4365/lib/python3.10/site-packages (from transformers<5.0.0,>=4.32.0->sentence-transformers) (0.4.3)\n",
      "Requirement already satisfied: joblib>=1.2.0 in /opt/homebrew/Caskroom/miniconda/base/envs/cs4365/lib/python3.10/site-packages (from scikit-learn->sentence-transformers) (1.4.0)\n",
      "Requirement already satisfied: threadpoolctl>=2.0.0 in /opt/homebrew/Caskroom/miniconda/base/envs/cs4365/lib/python3.10/site-packages (from scikit-learn->sentence-transformers) (3.4.0)\n",
      "Requirement already satisfied: iniconfig in /opt/homebrew/Caskroom/miniconda/base/envs/cs4365/lib/python3.10/site-packages (from pytest<9,>=7.0.0->pytest-asyncio<0.24.0,>=0.23.2->brave-search) (2.0.0)\n",
      "Requirement already satisfied: pluggy<2.0,>=1.4 in /opt/homebrew/Caskroom/miniconda/base/envs/cs4365/lib/python3.10/site-packages (from pytest<9,>=7.0.0->pytest-asyncio<0.24.0,>=0.23.2->brave-search) (1.4.0)\n",
      "Requirement already satisfied: exceptiongroup>=1.0.0rc8 in /opt/homebrew/Caskroom/miniconda/base/envs/cs4365/lib/python3.10/site-packages (from pytest<9,>=7.0.0->pytest-asyncio<0.24.0,>=0.23.2->brave-search) (1.2.0)\n",
      "Requirement already satisfied: tomli>=1 in /opt/homebrew/Caskroom/miniconda/base/envs/cs4365/lib/python3.10/site-packages (from pytest<9,>=7.0.0->pytest-asyncio<0.24.0,>=0.23.2->brave-search) (2.0.1)\n",
      "Requirement already satisfied: MarkupSafe>=2.0 in /opt/homebrew/Caskroom/miniconda/base/envs/cs4365/lib/python3.10/site-packages (from jinja2->torch>=1.11.0->sentence-transformers) (2.1.5)\n",
      "Requirement already satisfied: mpmath>=0.19 in /opt/homebrew/Caskroom/miniconda/base/envs/cs4365/lib/python3.10/site-packages (from sympy->torch>=1.11.0->sentence-transformers) (1.3.0)\n",
      "Note: you may need to restart the kernel to use updated packages.\n"
     ]
    }
   ],
   "source": [
    "%pip install requests pytrends spoonacular brave-search pandas sentence-transformers scikit-learn"
   ]
  },
  {
   "cell_type": "code",
   "execution_count": 10,
   "metadata": {},
   "outputs": [
    {
     "name": "stderr",
     "output_type": "stream",
     "text": [
      "/opt/homebrew/Caskroom/miniconda/base/envs/cs4365/lib/python3.10/site-packages/tqdm/auto.py:21: TqdmWarning: IProgress not found. Please update jupyter and ipywidgets. See https://ipywidgets.readthedocs.io/en/stable/user_install.html\n",
      "  from .autonotebook import tqdm as notebook_tqdm\n"
     ]
    }
   ],
   "source": [
    "from pytrends.request import TrendReq\n",
    "from spoonacular import API\n",
    "import json\n",
    "import time\n",
    "import os\n",
    "from brave import Brave\n",
    "import pandas as pd\n",
    "from sentence_transformers import SentenceTransformer\n",
    "from sklearn.metrics.pairwise import cosine_similarity"
   ]
  },
  {
   "cell_type": "markdown",
   "metadata": {},
   "source": [
    "We first setup our API access points."
   ]
  },
  {
   "cell_type": "code",
   "execution_count": 3,
   "metadata": {},
   "outputs": [],
   "source": [
    "# Set up Spoonacular API client\n",
    "spoonacular_api_key = \"API_KEY\"\n",
    "spoonacular_client = API(spoonacular_api_key)\n",
    "\n",
    "# Set up Google Trends API client\n",
    "pytrends = TrendReq()\n",
    "\n",
    "# Set up Brave Search API client\n",
    "brave = Brave('API_KEY')"
   ]
  },
  {
   "cell_type": "markdown",
   "metadata": {},
   "source": [
    "We then get trending recipes using the Google Trends API and save them."
   ]
  },
  {
   "cell_type": "code",
   "execution_count": 4,
   "metadata": {},
   "outputs": [
    {
     "data": {
      "text/plain": [
       "[['pimento cheese recipe', 300],\n",
       " ['pornstar martini recipe', 70],\n",
       " ['hummingbird food recipe', 50]]"
      ]
     },
     "execution_count": 4,
     "metadata": {},
     "output_type": "execute_result"
    }
   ],
   "source": [
    "if not os.path.exists('trending_recipes.json'):\n",
    "    # Build Google Trends API request with the keyline \"recipe\" over the past week\n",
    "    kw_list = [\"recipe\"]\n",
    "    pytrends.build_payload(kw_list, cat=0, timeframe=\"now 7-d\", geo=\"US\")\n",
    "    \n",
    "    # Extract the rising related queries by week-over-week change of above 50%\n",
    "    related_queries = pytrends.related_queries()\n",
    "    trending_recipes = []\n",
    "    rising_trends = related_queries[\"recipe\"][\"rising\"]\n",
    "    for index, row in rising_trends.iterrows():\n",
    "        keyword = row[\"query\"]\n",
    "        percentage_change = row[\"value\"]\n",
    "        trending_recipes.append((keyword, percentage_change))\n",
    "\n",
    "    trending_recipes_data = {\"trending_recipes\": trending_recipes}\n",
    "    with open('trending_recipes.json', \"w\") as file:\n",
    "        json.dump(trending_recipes_data, file, indent=4)\n",
    "else:\n",
    "    with open('trending_recipes.json') as f:\n",
    "        data = json.load(f)\n",
    "    trending_recipes = data[\"trending_recipes\"]\n",
    "\n",
    "trending_recipes"
   ]
  },
  {
   "cell_type": "markdown",
   "metadata": {},
   "source": [
    "We see that we get the name of the recipe and we also get the percentage week-over-week growth."
   ]
  },
  {
   "cell_type": "markdown",
   "metadata": {},
   "source": [
    "The next step is to get the recipe ingredients. To do this, we query Spoonacular API and see if the recipe is in their database. If it is, we get the ingredients from there. If it isn't, we use Brave Search API to search for a recipe online and using Spoonacular API to scrape the ingredients off the site."
   ]
  },
  {
   "cell_type": "markdown",
   "metadata": {},
   "source": [
    "To do this, we need to define a function for the search logic."
   ]
  },
  {
   "cell_type": "code",
   "execution_count": 5,
   "metadata": {},
   "outputs": [],
   "source": [
    "def get_recipe_ingredients(recipe_name):\n",
    "    \"\"\"\n",
    "    Extract ingredients from a recipe using the Spoonacular API.\n",
    "    \n",
    "    Args:\n",
    "        recipe_name (str): The name of the recipe.\n",
    "        \n",
    "    Returns:\n",
    "        list: A list of ingredients for the recipe.\n",
    "    \"\"\"\n",
    "    try:\n",
    "        # Check if the recipe exists in Spoonacular\n",
    "        search_response = spoonacular_client.search_recipes_complex(recipe_name)\n",
    "        time.sleep(1)\n",
    "        if search_response.json()[\"totalResults\"] > 0:\n",
    "            # If the recipe exists, retrieve its ingredients directly\n",
    "            recipe_id = search_response.json()[\"results\"][0][\"id\"]\n",
    "            ingredients_response = spoonacular_client.get_analyzed_recipe_instructions(recipe_id)\n",
    "            time.sleep(1)\n",
    "            steps = ingredients_response.json()[0][\"steps\"]\n",
    "            ingredients = []\n",
    "            for step in steps:\n",
    "                ingredients.extend(step[\"ingredients\"])\n",
    "            ingredient_names = [ingredient[\"name\"] for ingredient in ingredients]\n",
    "            return ingredient_names\n",
    "        else:\n",
    "            pass\n",
    "            # If the recipe doesn't exist, search for a website with the recipe using Brave Search API\n",
    "            search_query = f\"{recipe_name} recipe\"\n",
    "            search_response = brave.search(q=search_query, count=10).web_results\n",
    "            if len(search_response) > 0:\n",
    "                recipe_url = search_response[0][\"url\"]\n",
    "                \n",
    "                # Extract ingredients from the recipe URL using Spoonacular\n",
    "                response = spoonacular_client.extract_recipe_from_website(recipe_url)\n",
    "                time.sleep(1)\n",
    "                ingredients = response.json()[\"extendedIngredients\"]\n",
    "                ingredient_names = [ingredient[\"name\"] for ingredient in ingredients]\n",
    "                return ingredient_names\n",
    "    except Exception as e:\n",
    "        print(f\"Error retrieving ingredients for {recipe_name}: {str(e)}\")\n",
    "        return []"
   ]
  },
  {
   "cell_type": "markdown",
   "metadata": {},
   "source": [
    "This can then be used on each recipe. We do this, and save it to a file."
   ]
  },
  {
   "cell_type": "code",
   "execution_count": 7,
   "metadata": {},
   "outputs": [
    {
     "data": {
      "text/plain": [
       "{'pimento cheese recipe': ['cheddar cheese',\n",
       "  'cream cheese',\n",
       "  'pimento peppers**',\n",
       "  'mayonnaise',\n",
       "  'garlic powder',\n",
       "  'onion powder',\n",
       "  'ground cayenne pepper',\n",
       "  'jalapeño pepper',\n",
       "  'pepper',\n",
       "  'salt'],\n",
       " 'pornstar martini recipe': ['vanilla vodka',\n",
       "  'passion fruit liqueur',\n",
       "  'passion fruit puree',\n",
       "  'lime juice',\n",
       "  'vanilla simple syrup',\n",
       "  'sparkling wine',\n",
       "  'garnish: 1/ passion fruit'],\n",
       " 'hummingbird food recipe': ['carrot',\n",
       "  'baking soda',\n",
       "  'spices',\n",
       "  'all purpose flour',\n",
       "  'salt',\n",
       "  'olive oil',\n",
       "  'vanilla',\n",
       "  'egg',\n",
       "  'pineapple',\n",
       "  'banana',\n",
       "  'carrot',\n",
       "  'coconut',\n",
       "  'cream cheese frosting',\n",
       "  'cream cheese',\n",
       "  'vanilla',\n",
       "  'butter',\n",
       "  'cream',\n",
       "  'powdered sugar',\n",
       "  'carrot',\n",
       "  'vegetable',\n",
       "  'carrot',\n",
       "  'granulated sugar',\n",
       "  'water',\n",
       "  'carrot',\n",
       "  'carrot',\n",
       "  'carrot',\n",
       "  'carrot',\n",
       "  'wrap',\n",
       "  'carrot',\n",
       "  'cream cheese frosting',\n",
       "  'frosting',\n",
       "  'frosting',\n",
       "  'cream cheese frosting',\n",
       "  'carrot',\n",
       "  'pecans']}"
      ]
     },
     "execution_count": 7,
     "metadata": {},
     "output_type": "execute_result"
    }
   ],
   "source": [
    "if not os.path.exists('recipe_ingredients.json'):\n",
    "    # Get ingredients of each recipe\n",
    "    recipe_ingredients = {}\n",
    "    for recipe, _ in trending_recipes:\n",
    "        ingredients = get_recipe_ingredients(recipe)\n",
    "        recipe_ingredients[recipe] = ingredients\n",
    "\n",
    "    recipe_ingredients_data = {\"recipe_ingredients\": recipe_ingredients}\n",
    "    with open('trending_recipes.json', \"w\") as file:\n",
    "        json.dump(recipe_ingredients_data, 'recipe_ingredients.json', indent=4)\n",
    "else:\n",
    "    with open('recipe_ingredients.json') as f:\n",
    "        data = json.load(f)\n",
    "    recipe_ingredients = data[\"recipe_ingredients\"]\n",
    "\n",
    "recipe_ingredients\n"
   ]
  },
  {
   "cell_type": "markdown",
   "metadata": {},
   "source": [
    "The logic works! We are successfully get all the ingredients for every viral/trending recipe."
   ]
  }
 ],
 "metadata": {
  "kernelspec": {
   "display_name": "cs4365",
   "language": "python",
   "name": "python3"
  },
  "language_info": {
   "codemirror_mode": {
    "name": "ipython",
    "version": 3
   },
   "file_extension": ".py",
   "mimetype": "text/x-python",
   "name": "python",
   "nbconvert_exporter": "python",
   "pygments_lexer": "ipython3",
   "version": "3.10.14"
  }
 },
 "nbformat": 4,
 "nbformat_minor": 2
}
